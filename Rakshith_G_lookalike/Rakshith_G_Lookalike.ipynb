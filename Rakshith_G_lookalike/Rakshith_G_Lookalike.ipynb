{
 "cells": [
  {
   "cell_type": "markdown",
   "id": "c58cb298-c2e5-46d9-8ecf-7f1aa66fabcb",
   "metadata": {},
   "source": [
    "## Importing Libraries"
   ]
  },
  {
   "cell_type": "code",
   "execution_count": 1,
   "id": "cedf36b6-9811-4fcb-a8ee-f54bce08ccd0",
   "metadata": {},
   "outputs": [],
   "source": [
    "import pandas as pd\n",
    "from sklearn.metrics.pairwise import cosine_similarity\n",
    "from sklearn.preprocessing import StandardScaler"
   ]
  },
  {
   "cell_type": "markdown",
   "id": "0402428a-f432-48a4-ae78-d165cc8a1498",
   "metadata": {},
   "source": [
    "## Loading Datasets"
   ]
  },
  {
   "cell_type": "code",
   "execution_count": 9,
   "id": "0ab2b5c3-1873-4b19-826e-83ba4bb09250",
   "metadata": {},
   "outputs": [],
   "source": [
    "# Load datasets\n",
    "customers = pd.read_csv(r\"C:\\Users\\Rakshith\\Downloads\\Customers.csv\")\n",
    "products = pd.read_csv(r\"C:\\Users\\Rakshith\\Downloads\\Products.csv\")\n",
    "transactions = pd.read_csv(r\"C:\\Users\\Rakshith\\Downloads\\Transactions.csv\")"
   ]
  },
  {
   "cell_type": "markdown",
   "id": "f254e59a-2f1c-439e-af29-88a0ad380107",
   "metadata": {},
   "source": [
    "##  Merging Datasets"
   ]
  },
  {
   "cell_type": "code",
   "execution_count": 16,
   "id": "2d7b7634-38fd-4fc6-a612-dc44678cea32",
   "metadata": {},
   "outputs": [
    {
     "name": "stdout",
     "output_type": "stream",
     "text": [
      "Index(['TransactionID', 'CustomerID', 'ProductID', 'TransactionDate',\n",
      "       'Quantity', 'TotalValue', 'Price_x', 'CustomerName', 'Region',\n",
      "       'SignupDate', 'ProductName', 'Category', 'Price_y'],\n",
      "      dtype='object')\n"
     ]
    }
   ],
   "source": [
    "# Merge datasets\n",
    "merged_data = transactions.merge(customers, on='CustomerID').merge(products, on='ProductID')\n",
    "# Check the columns of the merged DataFrame\n",
    "print(merged_data.columns)"
   ]
  },
  {
   "cell_type": "code",
   "execution_count": 18,
   "id": "5effeb75-17e5-48bf-b238-52e31abc5135",
   "metadata": {},
   "outputs": [
    {
     "name": "stdout",
     "output_type": "stream",
     "text": [
      "C0001: [('C0003', 1.0)]\n",
      "C0004: [('C0010', 1.0000000000000002), ('C0013', 1.0000000000000002)]\n",
      "C0005: [('C0011', 1.0000000000000002)]\n",
      "C0010: [('C0013', 1.0000000000000002)]\n",
      "C0013: [('C0010', 1.0000000000000002)]\n",
      "C0014: [('C0015', 1.0000000000000002), ('C0097', 0.9993755620448931)]\n",
      "C0015: [('C0097', 0.9993755620448931)]\n",
      "C0017: [('C0096', 0.9990407104780167)]\n",
      "C0018: [('C0036', 0.9955016644821895)]\n",
      "C0019: [('C0098', 0.9996164922604521)]\n"
     ]
    }
   ],
   "source": [
    "# Prepare features for similarity calculation\n",
    "features = merged_data[['Region', 'Price_y', 'Quantity', 'TotalValue']]\n",
    "features = pd.get_dummies(features, columns=['Region'])\n",
    "\n",
    "# Standardize features\n",
    "scaler = StandardScaler()\n",
    "scaled_features = scaler.fit_transform(features)\n",
    "\n",
    "# Calculate similarity matrix\n",
    "similarity_matrix = cosine_similarity(scaled_features)\n",
    "\n",
    "# Get the number of customers\n",
    "num_customers = len(customers)\n",
    "\n",
    "# Function to get lookalikes\n",
    "def get_lookalikes(customer_id, top_n=3):\n",
    "    try:\n",
    "        index = customers[customers['CustomerID'] == customer_id].index[0]\n",
    "        similar_indices = similarity_matrix[index].argsort()[-top_n-1:-1][::-1]\n",
    "        \n",
    "        # Prepare lookalikes with scores\n",
    "        lookalikes = []\n",
    "        for i in similar_indices:\n",
    "            if i < num_customers and customers.iloc[i]['CustomerID'] != customer_id:  # Ensure index is valid and exclude the customer itself\n",
    "                lookalikes.append((customers.iloc[i]['CustomerID'], similarity_matrix[index][i]))\n",
    "        \n",
    "        return lookalikes\n",
    "    except IndexError:\n",
    "        return []\n",
    "\n",
    "# Generate lookalikes for first 20 customers\n",
    "lookalike_results = {}\n",
    "for cust_id in customers['CustomerID'][:20]:\n",
    "    lookalikes = get_lookalikes(cust_id)\n",
    "    if lookalikes:  # Only add if there are valid lookalikes\n",
    "        lookalike_results[cust_id] = lookalikes\n",
    "\n",
    "# Convert lookalike results to a DataFrame\n",
    "lookalike_df = pd.DataFrame.from_dict(lookalike_results, orient='index')\n",
    "\n",
    "# Convert the lookalikes column to a string representation\n",
    "#lookalike_df['Lookalikes'] = lookalike_df[0].apply(lambda x: ', '.join([f\"({cust_id}, {score:.2f})\" for cust_id, score in (x if isinstance(x, list) else [x])]))\n",
    "#lookalike_df = lookalike_df[['Lookalikes']]\n",
    "\n",
    "\n",
    "# Save results to CSV\n",
    "#lookalike_df.to_csv('Lookalike.csv',index=True)\n",
    "import csv\n",
    "\n",
    "with open('Lookalike.csv', 'w', newline='') as csvfile:\n",
    "    writer = csv.writer(csvfile)\n",
    "    #writer.writerow(['cust_id', 'lookalikes'])  # Write header if needed\n",
    "    for cust_id, lookalikes in lookalike_results.items():\n",
    "        writer.writerow([cust_id, lookalikes])\n",
    "\n",
    "# Print the lookalike results for verification\n",
    "for cust_id, lookalikes in lookalike_results.items():\n",
    "    print(f\"{cust_id}: {lookalikes}\")"
   ]
  },
  {
   "cell_type": "code",
   "execution_count": null,
   "id": "d249a954-9fd8-4b32-84ae-a073c0fd081f",
   "metadata": {},
   "outputs": [],
   "source": []
  }
 ],
 "metadata": {
  "kernelspec": {
   "display_name": "Python 3 (ipykernel)",
   "language": "python",
   "name": "python3"
  },
  "language_info": {
   "codemirror_mode": {
    "name": "ipython",
    "version": 3
   },
   "file_extension": ".py",
   "mimetype": "text/x-python",
   "name": "python",
   "nbconvert_exporter": "python",
   "pygments_lexer": "ipython3",
   "version": "3.12.4"
  }
 },
 "nbformat": 4,
 "nbformat_minor": 5
}
